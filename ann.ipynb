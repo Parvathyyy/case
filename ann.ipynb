{
  "nbformat": 4,
  "nbformat_minor": 0,
  "metadata": {
    "colab": {
      "name": "Untitled0.ipynb",
      "provenance": [],
      "authorship_tag": "ABX9TyMD/oyig/CgkSpY6wnMWmTh",
      "include_colab_link": true
    },
    "kernelspec": {
      "name": "python3",
      "display_name": "Python 3"
    },
    "language_info": {
      "name": "python"
    },
    "accelerator": "GPU"
  },
  "cells": [
    {
      "cell_type": "markdown",
      "metadata": {
        "id": "view-in-github",
        "colab_type": "text"
      },
      "source": [
        "<a href=\"https://colab.research.google.com/github/Parvathyyy/case/blob/main/ann.ipynb\" target=\"_parent\"><img src=\"https://colab.research.google.com/assets/colab-badge.svg\" alt=\"Open In Colab\"/></a>"
      ]
    },
    {
      "cell_type": "code",
      "metadata": {
        "colab": {
          "base_uri": "https://localhost:8080/",
          "height": 203
        },
        "id": "uH9NkJSCwGdy",
        "outputId": "b181049d-ea48-41d3-d3ff-87b25b44df05"
      },
      "source": [
        "import pandas as pd\n",
        "import numpy as np\n",
        "path = \"https://github.com/Parvathyyy/case/raw/main/Churn_Rate_Prediction.csv\"\n",
        "data = pd.read_csv(path)\n",
        "data.head()\n"
      ],
      "execution_count": 7,
      "outputs": [
        {
          "output_type": "execute_result",
          "data": {
            "text/html": [
              "<div>\n",
              "<style scoped>\n",
              "    .dataframe tbody tr th:only-of-type {\n",
              "        vertical-align: middle;\n",
              "    }\n",
              "\n",
              "    .dataframe tbody tr th {\n",
              "        vertical-align: top;\n",
              "    }\n",
              "\n",
              "    .dataframe thead th {\n",
              "        text-align: right;\n",
              "    }\n",
              "</style>\n",
              "<table border=\"1\" class=\"dataframe\">\n",
              "  <thead>\n",
              "    <tr style=\"text-align: right;\">\n",
              "      <th></th>\n",
              "      <th>RowNumber</th>\n",
              "      <th>CustomerId</th>\n",
              "      <th>Surname</th>\n",
              "      <th>CreditScore</th>\n",
              "      <th>Geography</th>\n",
              "      <th>Gender</th>\n",
              "      <th>Age</th>\n",
              "      <th>Tenure</th>\n",
              "      <th>Balance</th>\n",
              "      <th>NumOfProducts</th>\n",
              "      <th>HasCrCard</th>\n",
              "      <th>IsActiveMember</th>\n",
              "      <th>EstimatedSalary</th>\n",
              "      <th>Exited</th>\n",
              "    </tr>\n",
              "  </thead>\n",
              "  <tbody>\n",
              "    <tr>\n",
              "      <th>0</th>\n",
              "      <td>1</td>\n",
              "      <td>15634602</td>\n",
              "      <td>Hargrave</td>\n",
              "      <td>619</td>\n",
              "      <td>France</td>\n",
              "      <td>Female</td>\n",
              "      <td>42</td>\n",
              "      <td>2</td>\n",
              "      <td>0.00</td>\n",
              "      <td>1</td>\n",
              "      <td>1</td>\n",
              "      <td>1</td>\n",
              "      <td>101348.88</td>\n",
              "      <td>1</td>\n",
              "    </tr>\n",
              "    <tr>\n",
              "      <th>1</th>\n",
              "      <td>2</td>\n",
              "      <td>15647311</td>\n",
              "      <td>Hill</td>\n",
              "      <td>608</td>\n",
              "      <td>Spain</td>\n",
              "      <td>Female</td>\n",
              "      <td>41</td>\n",
              "      <td>1</td>\n",
              "      <td>83807.86</td>\n",
              "      <td>1</td>\n",
              "      <td>0</td>\n",
              "      <td>1</td>\n",
              "      <td>112542.58</td>\n",
              "      <td>0</td>\n",
              "    </tr>\n",
              "    <tr>\n",
              "      <th>2</th>\n",
              "      <td>3</td>\n",
              "      <td>15619304</td>\n",
              "      <td>Onio</td>\n",
              "      <td>502</td>\n",
              "      <td>France</td>\n",
              "      <td>Female</td>\n",
              "      <td>42</td>\n",
              "      <td>8</td>\n",
              "      <td>159660.80</td>\n",
              "      <td>3</td>\n",
              "      <td>1</td>\n",
              "      <td>0</td>\n",
              "      <td>113931.57</td>\n",
              "      <td>1</td>\n",
              "    </tr>\n",
              "    <tr>\n",
              "      <th>3</th>\n",
              "      <td>4</td>\n",
              "      <td>15701354</td>\n",
              "      <td>Boni</td>\n",
              "      <td>699</td>\n",
              "      <td>France</td>\n",
              "      <td>Female</td>\n",
              "      <td>39</td>\n",
              "      <td>1</td>\n",
              "      <td>0.00</td>\n",
              "      <td>2</td>\n",
              "      <td>0</td>\n",
              "      <td>0</td>\n",
              "      <td>93826.63</td>\n",
              "      <td>0</td>\n",
              "    </tr>\n",
              "    <tr>\n",
              "      <th>4</th>\n",
              "      <td>5</td>\n",
              "      <td>15737888</td>\n",
              "      <td>Mitchell</td>\n",
              "      <td>850</td>\n",
              "      <td>Spain</td>\n",
              "      <td>Female</td>\n",
              "      <td>43</td>\n",
              "      <td>2</td>\n",
              "      <td>125510.82</td>\n",
              "      <td>1</td>\n",
              "      <td>1</td>\n",
              "      <td>1</td>\n",
              "      <td>79084.10</td>\n",
              "      <td>0</td>\n",
              "    </tr>\n",
              "  </tbody>\n",
              "</table>\n",
              "</div>"
            ],
            "text/plain": [
              "   RowNumber  CustomerId   Surname  ...  IsActiveMember EstimatedSalary Exited\n",
              "0          1    15634602  Hargrave  ...               1       101348.88      1\n",
              "1          2    15647311      Hill  ...               1       112542.58      0\n",
              "2          3    15619304      Onio  ...               0       113931.57      1\n",
              "3          4    15701354      Boni  ...               0        93826.63      0\n",
              "4          5    15737888  Mitchell  ...               1        79084.10      0\n",
              "\n",
              "[5 rows x 14 columns]"
            ]
          },
          "metadata": {},
          "execution_count": 7
        }
      ]
    },
    {
      "cell_type": "code",
      "metadata": {
        "colab": {
          "base_uri": "https://localhost:8080/"
        },
        "id": "vaPSZ0hf-R_4",
        "outputId": "7b4e59d3-82b2-4b77-909d-21ff07bff1af"
      },
      "source": [
        "data.isna().sum()"
      ],
      "execution_count": 8,
      "outputs": [
        {
          "output_type": "execute_result",
          "data": {
            "text/plain": [
              "RowNumber          0\n",
              "CustomerId         0\n",
              "Surname            0\n",
              "CreditScore        0\n",
              "Geography          0\n",
              "Gender             0\n",
              "Age                0\n",
              "Tenure             0\n",
              "Balance            0\n",
              "NumOfProducts      0\n",
              "HasCrCard          0\n",
              "IsActiveMember     0\n",
              "EstimatedSalary    0\n",
              "Exited             0\n",
              "dtype: int64"
            ]
          },
          "metadata": {},
          "execution_count": 8
        }
      ]
    },
    {
      "cell_type": "code",
      "metadata": {
        "id": "MByFL3N0-nMw"
      },
      "source": [
        "x = data.iloc[:,3:13]\n",
        "y = data.iloc[:,13]"
      ],
      "execution_count": 9,
      "outputs": []
    },
    {
      "cell_type": "code",
      "metadata": {
        "colab": {
          "base_uri": "https://localhost:8080/",
          "height": 203
        },
        "id": "4tnArMBp_Eb2",
        "outputId": "bf1de7ee-5c1a-4563-e6d3-c7509b0925c8"
      },
      "source": [
        "x.head()"
      ],
      "execution_count": 10,
      "outputs": [
        {
          "output_type": "execute_result",
          "data": {
            "text/html": [
              "<div>\n",
              "<style scoped>\n",
              "    .dataframe tbody tr th:only-of-type {\n",
              "        vertical-align: middle;\n",
              "    }\n",
              "\n",
              "    .dataframe tbody tr th {\n",
              "        vertical-align: top;\n",
              "    }\n",
              "\n",
              "    .dataframe thead th {\n",
              "        text-align: right;\n",
              "    }\n",
              "</style>\n",
              "<table border=\"1\" class=\"dataframe\">\n",
              "  <thead>\n",
              "    <tr style=\"text-align: right;\">\n",
              "      <th></th>\n",
              "      <th>CreditScore</th>\n",
              "      <th>Geography</th>\n",
              "      <th>Gender</th>\n",
              "      <th>Age</th>\n",
              "      <th>Tenure</th>\n",
              "      <th>Balance</th>\n",
              "      <th>NumOfProducts</th>\n",
              "      <th>HasCrCard</th>\n",
              "      <th>IsActiveMember</th>\n",
              "      <th>EstimatedSalary</th>\n",
              "    </tr>\n",
              "  </thead>\n",
              "  <tbody>\n",
              "    <tr>\n",
              "      <th>0</th>\n",
              "      <td>619</td>\n",
              "      <td>France</td>\n",
              "      <td>Female</td>\n",
              "      <td>42</td>\n",
              "      <td>2</td>\n",
              "      <td>0.00</td>\n",
              "      <td>1</td>\n",
              "      <td>1</td>\n",
              "      <td>1</td>\n",
              "      <td>101348.88</td>\n",
              "    </tr>\n",
              "    <tr>\n",
              "      <th>1</th>\n",
              "      <td>608</td>\n",
              "      <td>Spain</td>\n",
              "      <td>Female</td>\n",
              "      <td>41</td>\n",
              "      <td>1</td>\n",
              "      <td>83807.86</td>\n",
              "      <td>1</td>\n",
              "      <td>0</td>\n",
              "      <td>1</td>\n",
              "      <td>112542.58</td>\n",
              "    </tr>\n",
              "    <tr>\n",
              "      <th>2</th>\n",
              "      <td>502</td>\n",
              "      <td>France</td>\n",
              "      <td>Female</td>\n",
              "      <td>42</td>\n",
              "      <td>8</td>\n",
              "      <td>159660.80</td>\n",
              "      <td>3</td>\n",
              "      <td>1</td>\n",
              "      <td>0</td>\n",
              "      <td>113931.57</td>\n",
              "    </tr>\n",
              "    <tr>\n",
              "      <th>3</th>\n",
              "      <td>699</td>\n",
              "      <td>France</td>\n",
              "      <td>Female</td>\n",
              "      <td>39</td>\n",
              "      <td>1</td>\n",
              "      <td>0.00</td>\n",
              "      <td>2</td>\n",
              "      <td>0</td>\n",
              "      <td>0</td>\n",
              "      <td>93826.63</td>\n",
              "    </tr>\n",
              "    <tr>\n",
              "      <th>4</th>\n",
              "      <td>850</td>\n",
              "      <td>Spain</td>\n",
              "      <td>Female</td>\n",
              "      <td>43</td>\n",
              "      <td>2</td>\n",
              "      <td>125510.82</td>\n",
              "      <td>1</td>\n",
              "      <td>1</td>\n",
              "      <td>1</td>\n",
              "      <td>79084.10</td>\n",
              "    </tr>\n",
              "  </tbody>\n",
              "</table>\n",
              "</div>"
            ],
            "text/plain": [
              "   CreditScore Geography  Gender  ...  HasCrCard  IsActiveMember  EstimatedSalary\n",
              "0          619    France  Female  ...          1               1        101348.88\n",
              "1          608     Spain  Female  ...          0               1        112542.58\n",
              "2          502    France  Female  ...          1               0        113931.57\n",
              "3          699    France  Female  ...          0               0         93826.63\n",
              "4          850     Spain  Female  ...          1               1         79084.10\n",
              "\n",
              "[5 rows x 10 columns]"
            ]
          },
          "metadata": {},
          "execution_count": 10
        }
      ]
    },
    {
      "cell_type": "code",
      "metadata": {
        "id": "hwYzzv_0_R1A"
      },
      "source": [
        "x = pd.get_dummies(x, drop_first = True)"
      ],
      "execution_count": 11,
      "outputs": []
    },
    {
      "cell_type": "code",
      "metadata": {
        "colab": {
          "base_uri": "https://localhost:8080/",
          "height": 203
        },
        "id": "a6qAQbbV_rEE",
        "outputId": "4db821fa-6c46-4370-d9b8-5fed6c088d9d"
      },
      "source": [
        "x.head()"
      ],
      "execution_count": 12,
      "outputs": [
        {
          "output_type": "execute_result",
          "data": {
            "text/html": [
              "<div>\n",
              "<style scoped>\n",
              "    .dataframe tbody tr th:only-of-type {\n",
              "        vertical-align: middle;\n",
              "    }\n",
              "\n",
              "    .dataframe tbody tr th {\n",
              "        vertical-align: top;\n",
              "    }\n",
              "\n",
              "    .dataframe thead th {\n",
              "        text-align: right;\n",
              "    }\n",
              "</style>\n",
              "<table border=\"1\" class=\"dataframe\">\n",
              "  <thead>\n",
              "    <tr style=\"text-align: right;\">\n",
              "      <th></th>\n",
              "      <th>CreditScore</th>\n",
              "      <th>Age</th>\n",
              "      <th>Tenure</th>\n",
              "      <th>Balance</th>\n",
              "      <th>NumOfProducts</th>\n",
              "      <th>HasCrCard</th>\n",
              "      <th>IsActiveMember</th>\n",
              "      <th>EstimatedSalary</th>\n",
              "      <th>Geography_Germany</th>\n",
              "      <th>Geography_Spain</th>\n",
              "      <th>Gender_Male</th>\n",
              "    </tr>\n",
              "  </thead>\n",
              "  <tbody>\n",
              "    <tr>\n",
              "      <th>0</th>\n",
              "      <td>619</td>\n",
              "      <td>42</td>\n",
              "      <td>2</td>\n",
              "      <td>0.00</td>\n",
              "      <td>1</td>\n",
              "      <td>1</td>\n",
              "      <td>1</td>\n",
              "      <td>101348.88</td>\n",
              "      <td>0</td>\n",
              "      <td>0</td>\n",
              "      <td>0</td>\n",
              "    </tr>\n",
              "    <tr>\n",
              "      <th>1</th>\n",
              "      <td>608</td>\n",
              "      <td>41</td>\n",
              "      <td>1</td>\n",
              "      <td>83807.86</td>\n",
              "      <td>1</td>\n",
              "      <td>0</td>\n",
              "      <td>1</td>\n",
              "      <td>112542.58</td>\n",
              "      <td>0</td>\n",
              "      <td>1</td>\n",
              "      <td>0</td>\n",
              "    </tr>\n",
              "    <tr>\n",
              "      <th>2</th>\n",
              "      <td>502</td>\n",
              "      <td>42</td>\n",
              "      <td>8</td>\n",
              "      <td>159660.80</td>\n",
              "      <td>3</td>\n",
              "      <td>1</td>\n",
              "      <td>0</td>\n",
              "      <td>113931.57</td>\n",
              "      <td>0</td>\n",
              "      <td>0</td>\n",
              "      <td>0</td>\n",
              "    </tr>\n",
              "    <tr>\n",
              "      <th>3</th>\n",
              "      <td>699</td>\n",
              "      <td>39</td>\n",
              "      <td>1</td>\n",
              "      <td>0.00</td>\n",
              "      <td>2</td>\n",
              "      <td>0</td>\n",
              "      <td>0</td>\n",
              "      <td>93826.63</td>\n",
              "      <td>0</td>\n",
              "      <td>0</td>\n",
              "      <td>0</td>\n",
              "    </tr>\n",
              "    <tr>\n",
              "      <th>4</th>\n",
              "      <td>850</td>\n",
              "      <td>43</td>\n",
              "      <td>2</td>\n",
              "      <td>125510.82</td>\n",
              "      <td>1</td>\n",
              "      <td>1</td>\n",
              "      <td>1</td>\n",
              "      <td>79084.10</td>\n",
              "      <td>0</td>\n",
              "      <td>1</td>\n",
              "      <td>0</td>\n",
              "    </tr>\n",
              "  </tbody>\n",
              "</table>\n",
              "</div>"
            ],
            "text/plain": [
              "   CreditScore  Age  Tenure  ...  Geography_Germany  Geography_Spain  Gender_Male\n",
              "0          619   42       2  ...                  0                0            0\n",
              "1          608   41       1  ...                  0                1            0\n",
              "2          502   42       8  ...                  0                0            0\n",
              "3          699   39       1  ...                  0                0            0\n",
              "4          850   43       2  ...                  0                1            0\n",
              "\n",
              "[5 rows x 11 columns]"
            ]
          },
          "metadata": {},
          "execution_count": 12
        }
      ]
    },
    {
      "cell_type": "code",
      "metadata": {
        "id": "p5G5Gf9I_yVY"
      },
      "source": [
        "from sklearn.preprocessing import StandardScaler\n",
        "sc = StandardScaler()\n",
        "x= sc.fit_transform(x)"
      ],
      "execution_count": 19,
      "outputs": []
    },
    {
      "cell_type": "code",
      "metadata": {
        "colab": {
          "base_uri": "https://localhost:8080/"
        },
        "id": "X2TU4bjGB70f",
        "outputId": "6b8c1346-e118-4410-9ec7-bbc75e50b6df"
      },
      "source": [
        "x"
      ],
      "execution_count": 20,
      "outputs": [
        {
          "output_type": "execute_result",
          "data": {
            "text/plain": [
              "array([[-0.32622142,  0.29351742, -1.04175968, ..., -0.57873591,\n",
              "        -0.57380915, -1.09598752],\n",
              "       [-0.44003595,  0.19816383, -1.38753759, ..., -0.57873591,\n",
              "         1.74273971, -1.09598752],\n",
              "       [-1.53679418,  0.29351742,  1.03290776, ..., -0.57873591,\n",
              "        -0.57380915, -1.09598752],\n",
              "       ...,\n",
              "       [ 0.60498839, -0.27860412,  0.68712986, ..., -0.57873591,\n",
              "        -0.57380915, -1.09598752],\n",
              "       [ 1.25683526,  0.29351742, -0.69598177, ...,  1.72790383,\n",
              "        -0.57380915,  0.91241915],\n",
              "       [ 1.46377078, -1.04143285, -0.35020386, ..., -0.57873591,\n",
              "        -0.57380915, -1.09598752]])"
            ]
          },
          "metadata": {},
          "execution_count": 20
        }
      ]
    },
    {
      "cell_type": "code",
      "metadata": {
        "id": "hFRScfpyB-vO"
      },
      "source": [
        "from sklearn.model_selection import train_test_split\n",
        "x_train, x_test, y_train, y_test = train_test_split(x,y,test_size = 0.2, random_state = 0)"
      ],
      "execution_count": 21,
      "outputs": []
    },
    {
      "cell_type": "code",
      "metadata": {
        "id": "4AnkWOaTCo_C"
      },
      "source": [
        "import keras\n",
        "from tensorflow.keras.models import Sequential\n",
        "from keras.layers import Dense"
      ],
      "execution_count": 22,
      "outputs": []
    },
    {
      "cell_type": "code",
      "metadata": {
        "id": "4QXTc9YLDDFh"
      },
      "source": [
        "classifier = Sequential()"
      ],
      "execution_count": 25,
      "outputs": []
    },
    {
      "cell_type": "code",
      "metadata": {
        "id": "haFzknB0DHva"
      },
      "source": [
        "classifier.add(Dense(units = 6,kernel_initializer='he_uniform',activation= 'relu',input_dim =11))"
      ],
      "execution_count": 26,
      "outputs": []
    },
    {
      "cell_type": "code",
      "metadata": {
        "id": "UFqR3fPwDrme"
      },
      "source": [
        "classifier.add(Dense(units = 6,kernel_initializer='he_uniform',activation= 'relu'))"
      ],
      "execution_count": 27,
      "outputs": []
    },
    {
      "cell_type": "code",
      "metadata": {
        "id": "0qePfQXQENgQ"
      },
      "source": [
        "classifier.add(Dense(units = 1,kernel_initializer='glorot_uniform',activation= 'sigmoid'))"
      ],
      "execution_count": 30,
      "outputs": []
    },
    {
      "cell_type": "code",
      "metadata": {
        "id": "k_jVmzrXFaYR"
      },
      "source": [
        "\n",
        "classifier.compile(optimizer = 'adam',loss ='binary_crossentropy', metrics =['Accuracy'])"
      ],
      "execution_count": 33,
      "outputs": []
    },
    {
      "cell_type": "code",
      "metadata": {
        "colab": {
          "base_uri": "https://localhost:8080/"
        },
        "id": "1qZDVcN7GbzF",
        "outputId": "70cc3f78-a885-4c09-fc89-fd4898e2566e"
      },
      "source": [
        "classifier.fit(x_train,y_train, batch_size= 10, epochs=50)"
      ],
      "execution_count": 35,
      "outputs": [
        {
          "output_type": "stream",
          "name": "stdout",
          "text": [
            "Epoch 1/50\n",
            "800/800 [==============================] - 1s 2ms/step - loss: 3.6241 - Accuracy: 0.1030\n",
            "Epoch 2/50\n",
            "800/800 [==============================] - 1s 2ms/step - loss: 3.6241 - Accuracy: 0.1030\n",
            "Epoch 3/50\n",
            "800/800 [==============================] - 1s 2ms/step - loss: 3.6241 - Accuracy: 0.1030\n",
            "Epoch 4/50\n",
            "800/800 [==============================] - 1s 2ms/step - loss: 3.6241 - Accuracy: 0.1030\n",
            "Epoch 5/50\n",
            "800/800 [==============================] - 1s 2ms/step - loss: 3.6241 - Accuracy: 0.1030\n",
            "Epoch 6/50\n",
            "800/800 [==============================] - 1s 2ms/step - loss: 3.6241 - Accuracy: 0.1030\n",
            "Epoch 7/50\n",
            "800/800 [==============================] - 1s 2ms/step - loss: 3.6241 - Accuracy: 0.1030\n",
            "Epoch 8/50\n",
            "800/800 [==============================] - 1s 2ms/step - loss: 3.6241 - Accuracy: 0.1030\n",
            "Epoch 9/50\n",
            "800/800 [==============================] - 1s 2ms/step - loss: 3.6241 - Accuracy: 0.1030\n",
            "Epoch 10/50\n",
            "800/800 [==============================] - 1s 2ms/step - loss: 3.6241 - Accuracy: 0.1030\n",
            "Epoch 11/50\n",
            "800/800 [==============================] - 1s 2ms/step - loss: 3.6241 - Accuracy: 0.1030\n",
            "Epoch 12/50\n",
            "800/800 [==============================] - 1s 2ms/step - loss: 3.6241 - Accuracy: 0.1030\n",
            "Epoch 13/50\n",
            "800/800 [==============================] - 1s 2ms/step - loss: 3.6241 - Accuracy: 0.1030\n",
            "Epoch 14/50\n",
            "800/800 [==============================] - 1s 2ms/step - loss: 3.6241 - Accuracy: 0.1030\n",
            "Epoch 15/50\n",
            "800/800 [==============================] - 1s 2ms/step - loss: 3.6241 - Accuracy: 0.1030\n",
            "Epoch 16/50\n",
            "800/800 [==============================] - 1s 2ms/step - loss: 3.6241 - Accuracy: 0.1030\n",
            "Epoch 17/50\n",
            "800/800 [==============================] - 1s 2ms/step - loss: 3.6241 - Accuracy: 0.1030\n",
            "Epoch 18/50\n",
            "800/800 [==============================] - 1s 2ms/step - loss: 3.6241 - Accuracy: 0.1030\n",
            "Epoch 19/50\n",
            "800/800 [==============================] - 1s 2ms/step - loss: 3.6241 - Accuracy: 0.1030\n",
            "Epoch 20/50\n",
            "800/800 [==============================] - 1s 2ms/step - loss: 3.6241 - Accuracy: 0.1030\n",
            "Epoch 21/50\n",
            "800/800 [==============================] - 1s 2ms/step - loss: 3.6241 - Accuracy: 0.1030\n",
            "Epoch 22/50\n",
            "800/800 [==============================] - 1s 2ms/step - loss: 3.6241 - Accuracy: 0.1030\n",
            "Epoch 23/50\n",
            "800/800 [==============================] - 1s 2ms/step - loss: 3.6241 - Accuracy: 0.1030\n",
            "Epoch 24/50\n",
            "800/800 [==============================] - 1s 2ms/step - loss: 3.6241 - Accuracy: 0.1030\n",
            "Epoch 25/50\n",
            "800/800 [==============================] - 1s 2ms/step - loss: 3.6241 - Accuracy: 0.1030\n",
            "Epoch 26/50\n",
            "800/800 [==============================] - 1s 2ms/step - loss: 3.6241 - Accuracy: 0.1030\n",
            "Epoch 27/50\n",
            "800/800 [==============================] - 1s 2ms/step - loss: 3.6241 - Accuracy: 0.1030\n",
            "Epoch 28/50\n",
            "800/800 [==============================] - 1s 2ms/step - loss: 3.6241 - Accuracy: 0.1030\n",
            "Epoch 29/50\n",
            "800/800 [==============================] - 1s 2ms/step - loss: 3.6241 - Accuracy: 0.1030\n",
            "Epoch 30/50\n",
            "800/800 [==============================] - 1s 2ms/step - loss: 3.6241 - Accuracy: 0.1030\n",
            "Epoch 31/50\n",
            "800/800 [==============================] - 1s 2ms/step - loss: 3.6241 - Accuracy: 0.1030\n",
            "Epoch 32/50\n",
            "800/800 [==============================] - 2s 2ms/step - loss: 3.6241 - Accuracy: 0.1030\n",
            "Epoch 33/50\n",
            "800/800 [==============================] - 1s 2ms/step - loss: 3.6241 - Accuracy: 0.1030\n",
            "Epoch 34/50\n",
            "800/800 [==============================] - 1s 2ms/step - loss: 3.6241 - Accuracy: 0.1030\n",
            "Epoch 35/50\n",
            "800/800 [==============================] - 1s 2ms/step - loss: 3.6241 - Accuracy: 0.1030\n",
            "Epoch 36/50\n",
            "800/800 [==============================] - 1s 2ms/step - loss: 3.6241 - Accuracy: 0.1030\n",
            "Epoch 37/50\n",
            "800/800 [==============================] - 1s 2ms/step - loss: 3.6241 - Accuracy: 0.1030\n",
            "Epoch 38/50\n",
            "800/800 [==============================] - 1s 2ms/step - loss: 3.6241 - Accuracy: 0.1030\n",
            "Epoch 39/50\n",
            "800/800 [==============================] - 1s 2ms/step - loss: 3.6241 - Accuracy: 0.1030\n",
            "Epoch 40/50\n",
            "800/800 [==============================] - 1s 2ms/step - loss: 3.6241 - Accuracy: 0.1030\n",
            "Epoch 41/50\n",
            "800/800 [==============================] - 1s 2ms/step - loss: 3.6241 - Accuracy: 0.1030\n",
            "Epoch 42/50\n",
            "800/800 [==============================] - 1s 2ms/step - loss: 3.6241 - Accuracy: 0.1030\n",
            "Epoch 43/50\n",
            "800/800 [==============================] - 1s 2ms/step - loss: 3.6241 - Accuracy: 0.1030\n",
            "Epoch 44/50\n",
            "800/800 [==============================] - 1s 2ms/step - loss: 3.6241 - Accuracy: 0.1030\n",
            "Epoch 45/50\n",
            "800/800 [==============================] - 1s 2ms/step - loss: 3.6241 - Accuracy: 0.1030\n",
            "Epoch 46/50\n",
            "800/800 [==============================] - 1s 2ms/step - loss: 3.6241 - Accuracy: 0.1030\n",
            "Epoch 47/50\n",
            "800/800 [==============================] - 1s 2ms/step - loss: 3.6241 - Accuracy: 0.1030\n",
            "Epoch 48/50\n",
            "800/800 [==============================] - 1s 2ms/step - loss: 3.6241 - Accuracy: 0.1030\n",
            "Epoch 49/50\n",
            "800/800 [==============================] - 1s 2ms/step - loss: 3.6241 - Accuracy: 0.1030\n",
            "Epoch 50/50\n",
            "800/800 [==============================] - 1s 2ms/step - loss: 3.6241 - Accuracy: 0.1030\n"
          ]
        },
        {
          "output_type": "execute_result",
          "data": {
            "text/plain": [
              "<keras.callbacks.History at 0x7f7000187590>"
            ]
          },
          "metadata": {},
          "execution_count": 35
        }
      ]
    },
    {
      "cell_type": "code",
      "metadata": {
        "id": "7pEBezfkH10D"
      },
      "source": [
        "y_pred = classifier.predict(x_test)"
      ],
      "execution_count": 36,
      "outputs": []
    },
    {
      "cell_type": "code",
      "metadata": {
        "colab": {
          "base_uri": "https://localhost:8080/"
        },
        "id": "jhycBdWOIAfF",
        "outputId": "405621ba-0884-44b9-8afb-533bf16913c3"
      },
      "source": [
        "y_pred"
      ],
      "execution_count": 37,
      "outputs": [
        {
          "output_type": "execute_result",
          "data": {
            "text/plain": [
              "array([[-0.5538505 , -0.37395772,  1.0329077 , ...,  1.7279038 ,\n",
              "        -0.57380915, -1.0959876 ],\n",
              "       [-1.3195119 ,  0.10281024, -1.0417597 , ..., -0.5787359 ,\n",
              "        -0.57380915, -1.0959876 ],\n",
              "       [ 0.5739481 ,  0.2935174 ,  1.0329077 , ..., -0.5787359 ,\n",
              "         1.7427397 , -1.0959876 ],\n",
              "       ...,\n",
              "       [-0.7504392 , -0.27860412, -1.3875376 , ..., -0.5787359 ,\n",
              "         1.7427397 ,  0.91241914],\n",
              "       [-0.00547137, -0.4693113 , -0.35020387, ...,  1.7279038 ,\n",
              "        -0.57380915,  0.91241914],\n",
              "       [-0.8021731 , -0.85072565,  1.0329077 , ...,  1.7279038 ,\n",
              "        -0.57380915,  0.91241914]], dtype=float32)"
            ]
          },
          "metadata": {},
          "execution_count": 37
        }
      ]
    },
    {
      "cell_type": "code",
      "metadata": {
        "id": "nBwMU6jDIQoO"
      },
      "source": [
        "y_pred = (y_pred > 0.5)"
      ],
      "execution_count": 38,
      "outputs": []
    },
    {
      "cell_type": "code",
      "metadata": {
        "colab": {
          "base_uri": "https://localhost:8080/"
        },
        "id": "6fefprXWIjPd",
        "outputId": "dade4aa6-150f-4642-9fde-01356e7f0dc4"
      },
      "source": [
        "y_pred"
      ],
      "execution_count": 39,
      "outputs": [
        {
          "output_type": "execute_result",
          "data": {
            "text/plain": [
              "array([[False, False,  True, ...,  True, False, False],\n",
              "       [False, False, False, ..., False, False, False],\n",
              "       [ True, False,  True, ..., False,  True, False],\n",
              "       ...,\n",
              "       [False, False, False, ..., False,  True,  True],\n",
              "       [False, False, False, ...,  True, False,  True],\n",
              "       [False, False,  True, ...,  True, False,  True]])"
            ]
          },
          "metadata": {},
          "execution_count": 39
        }
      ]
    },
    {
      "cell_type": "code",
      "metadata": {
        "colab": {
          "base_uri": "https://localhost:8080/",
          "height": 320
        },
        "id": "_O1AGXgtIl-6",
        "outputId": "6df88648-9f35-4926-c490-5fdb89fd0b10"
      },
      "source": [
        "from sklearn.metrics import accuracy_score\n",
        "accuracy_score(y_pred, y_test)"
      ],
      "execution_count": 40,
      "outputs": [
        {
          "output_type": "error",
          "ename": "ValueError",
          "evalue": "ignored",
          "traceback": [
            "\u001b[0;31m---------------------------------------------------------------------------\u001b[0m",
            "\u001b[0;31mValueError\u001b[0m                                Traceback (most recent call last)",
            "\u001b[0;32m<ipython-input-40-41bb84138537>\u001b[0m in \u001b[0;36m<module>\u001b[0;34m()\u001b[0m\n\u001b[1;32m      1\u001b[0m \u001b[0;32mfrom\u001b[0m \u001b[0msklearn\u001b[0m\u001b[0;34m.\u001b[0m\u001b[0mmetrics\u001b[0m \u001b[0;32mimport\u001b[0m \u001b[0maccuracy_score\u001b[0m\u001b[0;34m\u001b[0m\u001b[0;34m\u001b[0m\u001b[0m\n\u001b[0;32m----> 2\u001b[0;31m \u001b[0maccuracy_score\u001b[0m\u001b[0;34m(\u001b[0m\u001b[0my_pred\u001b[0m\u001b[0;34m,\u001b[0m \u001b[0my_test\u001b[0m\u001b[0;34m)\u001b[0m\u001b[0;34m\u001b[0m\u001b[0;34m\u001b[0m\u001b[0m\n\u001b[0m",
            "\u001b[0;32m/usr/local/lib/python3.7/dist-packages/sklearn/metrics/_classification.py\u001b[0m in \u001b[0;36maccuracy_score\u001b[0;34m(y_true, y_pred, normalize, sample_weight)\u001b[0m\n\u001b[1;32m    183\u001b[0m \u001b[0;34m\u001b[0m\u001b[0m\n\u001b[1;32m    184\u001b[0m     \u001b[0;31m# Compute accuracy for each possible representation\u001b[0m\u001b[0;34m\u001b[0m\u001b[0;34m\u001b[0m\u001b[0;34m\u001b[0m\u001b[0m\n\u001b[0;32m--> 185\u001b[0;31m     \u001b[0my_type\u001b[0m\u001b[0;34m,\u001b[0m \u001b[0my_true\u001b[0m\u001b[0;34m,\u001b[0m \u001b[0my_pred\u001b[0m \u001b[0;34m=\u001b[0m \u001b[0m_check_targets\u001b[0m\u001b[0;34m(\u001b[0m\u001b[0my_true\u001b[0m\u001b[0;34m,\u001b[0m \u001b[0my_pred\u001b[0m\u001b[0;34m)\u001b[0m\u001b[0;34m\u001b[0m\u001b[0;34m\u001b[0m\u001b[0m\n\u001b[0m\u001b[1;32m    186\u001b[0m     \u001b[0mcheck_consistent_length\u001b[0m\u001b[0;34m(\u001b[0m\u001b[0my_true\u001b[0m\u001b[0;34m,\u001b[0m \u001b[0my_pred\u001b[0m\u001b[0;34m,\u001b[0m \u001b[0msample_weight\u001b[0m\u001b[0;34m)\u001b[0m\u001b[0;34m\u001b[0m\u001b[0;34m\u001b[0m\u001b[0m\n\u001b[1;32m    187\u001b[0m     \u001b[0;32mif\u001b[0m \u001b[0my_type\u001b[0m\u001b[0;34m.\u001b[0m\u001b[0mstartswith\u001b[0m\u001b[0;34m(\u001b[0m\u001b[0;34m'multilabel'\u001b[0m\u001b[0;34m)\u001b[0m\u001b[0;34m:\u001b[0m\u001b[0;34m\u001b[0m\u001b[0;34m\u001b[0m\u001b[0m\n",
            "\u001b[0;32m/usr/local/lib/python3.7/dist-packages/sklearn/metrics/_classification.py\u001b[0m in \u001b[0;36m_check_targets\u001b[0;34m(y_true, y_pred)\u001b[0m\n\u001b[1;32m     88\u001b[0m     \u001b[0;32mif\u001b[0m \u001b[0mlen\u001b[0m\u001b[0;34m(\u001b[0m\u001b[0my_type\u001b[0m\u001b[0;34m)\u001b[0m \u001b[0;34m>\u001b[0m \u001b[0;36m1\u001b[0m\u001b[0;34m:\u001b[0m\u001b[0;34m\u001b[0m\u001b[0;34m\u001b[0m\u001b[0m\n\u001b[1;32m     89\u001b[0m         raise ValueError(\"Classification metrics can't handle a mix of {0} \"\n\u001b[0;32m---> 90\u001b[0;31m                          \"and {1} targets\".format(type_true, type_pred))\n\u001b[0m\u001b[1;32m     91\u001b[0m \u001b[0;34m\u001b[0m\u001b[0m\n\u001b[1;32m     92\u001b[0m     \u001b[0;31m# We can't have more than one value on y_type => The set is no more needed\u001b[0m\u001b[0;34m\u001b[0m\u001b[0;34m\u001b[0m\u001b[0;34m\u001b[0m\u001b[0m\n",
            "\u001b[0;31mValueError\u001b[0m: Classification metrics can't handle a mix of multilabel-indicator and binary targets"
          ]
        }
      ]
    }
  ]
}